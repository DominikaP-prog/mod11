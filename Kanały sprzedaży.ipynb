{
 "cells": [
  {
   "cell_type": "code",
   "execution_count": 12,
   "id": "3bf9b196",
   "metadata": {},
   "outputs": [],
   "source": [
    "# Importowanie bibliotek\n",
    "import pandas as pd\n",
    "import matplotlib.pyplot as plt\n",
    "import seaborn as sns\n",
    "from ipywidgets import interact, widgets\n",
    "\n",
    "# Styl wykresów\n",
    "sns.set(style=\"whitegrid\")"
   ]
  },
  {
   "cell_type": "code",
   "execution_count": 14,
   "id": "65541d55",
   "metadata": {},
   "outputs": [],
   "source": [
    "# Wczytanie danych transakcyjnych\n",
    "years = [2016, 2017, 2018, 2019]\n",
    "dfs = [pd.read_csv(f\"transactions-{year}.csv\") for year in years]\n",
    "transactions = pd.concat(dfs)"
   ]
  },
  {
   "cell_type": "code",
   "execution_count": 17,
   "id": "ebb82785",
   "metadata": {},
   "outputs": [],
   "source": [
    "# Wczytanie danych klientów\n",
    "customers = pd.read_csv(\"customers.csv\")\n",
    "\n"
   ]
  },
  {
   "cell_type": "code",
   "execution_count": null,
   "id": "bffe5d1c",
   "metadata": {},
   "outputs": [],
   "source": [
    "# Konwersja daty i dzień tygodnia\n",
    "transactions['tran_date'] = pd.to_datetime(transactions['tran_date'], format='mixed', dayfirst=True)\n",
    "transactions['weekday'] = transactions['tran_date'].dt.day_name()"
   ]
  },
  {
   "cell_type": "code",
   "execution_count": 28,
   "id": "01b77225",
   "metadata": {},
   "outputs": [
    {
     "name": "stdout",
     "output_type": "stream",
     "text": [
      "Index(['Unnamed: 0', 'customer_Id', 'DOB', 'Gender', 'country_code'], dtype='object')\n",
      "Index(['Unnamed: 0', 'transaction_id', 'cust_id', 'tran_date',\n",
      "       'prod_subcat_code', 'prod_cat_code', 'Qty', 'Rate', 'Tax', 'total_amt',\n",
      "       'Store_type', 'weekday'],\n",
      "      dtype='object')\n"
     ]
    }
   ],
   "source": [
    "print(customers.columns)\n",
    "print(transactions.columns)"
   ]
  },
  {
   "cell_type": "code",
   "execution_count": 29,
   "id": "a1b27ea6",
   "metadata": {},
   "outputs": [],
   "source": [
    "# Usuwanie zbędnych kolumn\n",
    "transactions = transactions.drop(columns=['Unnamed: 0'])\n",
    "customers = customers.drop(columns=['Unnamed: 0'])\n",
    "\n",
    "# Łączenie danych\n",
    "data = transactions.merge(customers, left_on='cust_id', right_on='customer_Id', how='left')"
   ]
  },
  {
   "cell_type": "code",
   "execution_count": 30,
   "id": "1e067698",
   "metadata": {},
   "outputs": [],
   "source": [
    "# Sprawdzenie unikalnych kanałów sprzedaży\n",
    "store_types = data['Store_type'].dropna().unique()\n",
    "store_types.sort()"
   ]
  },
  {
   "cell_type": "code",
   "execution_count": 31,
   "id": "f70fa8aa",
   "metadata": {},
   "outputs": [],
   "source": [
    "# Funkcja do analizy sprzedaży wg dnia tygodnia i charakterystyki klientów\n",
    "def analyze_store(store_type):\n",
    "    df = data[data['Store_type'] == store_type]\n",
    "    \n",
    "    # Sprzedaż wg dnia tygodnia\n",
    "    weekday_sales = df.groupby('weekday')['total_amt'].sum().reindex([\n",
    "        'Monday', 'Tuesday', 'Wednesday', 'Thursday', 'Friday', 'Saturday', 'Sunday'\n",
    "    ])\n",
    "    \n",
    "    # 🎨 Wykres sprzedaży w dniach tygodnia\n",
    "    plt.figure(figsize=(10, 4))\n",
    "    sns.barplot(x=weekday_sales.index, y=weekday_sales.values, palette=\"Blues_d\")\n",
    "    plt.title(f'Sprzedaż wg dnia tygodnia - {store_type}')\n",
    "    plt.ylabel('Suma sprzedaży')\n",
    "    plt.xticks(rotation=45)\n",
    "    plt.show()"
   ]
  },
  {
   "cell_type": "code",
   "execution_count": 38,
   "id": "389b0ea5",
   "metadata": {},
   "outputs": [
    {
     "ename": "NameError",
     "evalue": "name 'df' is not defined",
     "output_type": "error",
     "traceback": [
      "\u001b[31m---------------------------------------------------------------------------\u001b[39m",
      "\u001b[31mNameError\u001b[39m                                 Traceback (most recent call last)",
      "\u001b[36mCell\u001b[39m\u001b[36m \u001b[39m\u001b[32mIn[38]\u001b[39m\u001b[32m, line 5\u001b[39m\n\u001b[32m      2\u001b[39m fig, axs = plt.subplots(\u001b[32m1\u001b[39m, \u001b[32m2\u001b[39m, figsize=(\u001b[32m12\u001b[39m, \u001b[32m4\u001b[39m))\n\u001b[32m      4\u001b[39m \u001b[38;5;66;03m# Rozkład płci\u001b[39;00m\n\u001b[32m----> \u001b[39m\u001b[32m5\u001b[39m gender_counts = \u001b[43mdf\u001b[49m[\u001b[33m'\u001b[39m\u001b[33mGender\u001b[39m\u001b[33m'\u001b[39m].value_counts()\n\u001b[32m      6\u001b[39m axs[\u001b[32m0\u001b[39m].pie(gender_counts, labels=gender_counts.index, autopct=\u001b[33m'\u001b[39m\u001b[38;5;132;01m%1.1f\u001b[39;00m\u001b[38;5;132;01m%%\u001b[39;00m\u001b[33m'\u001b[39m, startangle=\u001b[32m140\u001b[39m)\n\u001b[32m      7\u001b[39m axs[\u001b[32m0\u001b[39m].set_title(\u001b[33m'\u001b[39m\u001b[33mPłeć klientów\u001b[39m\u001b[33m'\u001b[39m)\n",
      "\u001b[31mNameError\u001b[39m: name 'df' is not defined"
     ]
    },
    {
     "data": {
      "image/png": "[encoded data removed]",
      "text/plain": [
       "<Figure size 1200x400 with 2 Axes>"
      ]
     },
     "metadata": {},
     "output_type": "display_data"
    }
   ],
   "source": [
    "# Charakterystyka klientów\n",
    "fig, axs = plt.subplots(1, 2, figsize=(12, 4))\n",
    "\n",
    "# Rozkład płci\n",
    "gender_counts = df['Gender'].value_counts()\n",
    "axs[0].pie(gender_counts, labels=gender_counts.index, autopct='%1.1f%%', startangle=140)\n",
    "axs[0].set_title('Płeć klientów')\n",
    "\n",
    "# Rozkład wieku\n",
    "sns.histplot(df['age'], bins=15, kde=True, ax=axs[1], color='green')\n",
    "axs[1].set_title('Rozkład wieku klientów')\n",
    "axs[1].set_xlabel('Wiek')\n",
    "\n",
    "plt.tight_layout()\n",
    "plt.show()\n",
    "\n",
    "# Interaktywny wybór kanału sprzedaży\n",
    "interact(analyze_store, store_type=widgets.Dropdown(\n",
    "options=store_types,\n",
    "description='Kanał sprzedaży:',\n",
    "style={'description_width': 'initial'}\n",
    "))"
   ]
  }
 ],
 "metadata": {
  "kernelspec": {
   "display_name": "Python 3",
   "language": "python",
   "name": "python3"
  },
  "language_info": {
   "codemirror_mode": {
    "name": "ipython",
    "version": 3
   },
   "file_extension": ".py",
   "mimetype": "text/x-python",
   "name": "python",
   "nbconvert_exporter": "python",
   "pygments_lexer": "ipython3",
   "version": "3.13.2"
  }
 },
 "nbformat": 4,
 "nbformat_minor": 5
}
